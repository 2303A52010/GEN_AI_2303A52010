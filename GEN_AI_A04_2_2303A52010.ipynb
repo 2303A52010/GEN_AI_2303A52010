{
  "nbformat": 4,
  "nbformat_minor": 0,
  "metadata": {
    "colab": {
      "provenance": [],
      "authorship_tag": "ABX9TyMkTCEMHDB0DBBoUm6c6tWK",
      "include_colab_link": true
    },
    "kernelspec": {
      "name": "python3",
      "display_name": "Python 3"
    },
    "language_info": {
      "name": "python"
    }
  },
  "cells": [
    {
      "cell_type": "markdown",
      "metadata": {
        "id": "view-in-github",
        "colab_type": "text"
      },
      "source": [
        "<a href=\"https://colab.research.google.com/github/2303A52010/GEN_AI_2303A52010/blob/main/GEN_AI_A04_2_2303A52010.ipynb\" target=\"_parent\"><img src=\"https://colab.research.google.com/assets/colab-badge.svg\" alt=\"Open In Colab\"/></a>"
      ]
    },
    {
      "cell_type": "code",
      "execution_count": 3,
      "metadata": {
        "colab": {
          "base_uri": "https://localhost:8080/"
        },
        "id": "hV1BxTZpXi-z",
        "outputId": "7dfd3a83-d8c3-48e4-a456-d011b22a138d"
      },
      "outputs": [
        {
          "output_type": "stream",
          "name": "stdout",
          "text": [
            "Training MSE: 0.00029936568296955787\n",
            "Testing MSE: 6.835812016261267e-05\n",
            "Enter x1: 2\n",
            "Enter x2: 3\n",
            "Enter x3: 4\n",
            "Predicted output: 0.8084763787707824\n"
          ]
        }
      ],
      "source": [
        "\n",
        "import numpy as np\n",
        "\n",
        "# Sigmoid Activation Function\n",
        "def sigmoid(x):\n",
        "    return 1 / (1 + np.exp(-x))\n",
        "\n",
        "# Sigmoid Derivative (for backpropagation)\n",
        "def sigmoid_derivative(x):\n",
        "    return x * (1 - x)\n",
        "\n",
        "# Backpropagation Algorithm for ANN with Gradient Descent\n",
        "def train_ann(X, y, learning_rate=0.1, epochs=1000):\n",
        "    # Initialize weights and bias\n",
        "    weights = np.random.randn(X.shape[1])\n",
        "    bias = np.random.randn()\n",
        "\n",
        "    # Training the model using backpropagation\n",
        "    for epoch in range(epochs):\n",
        "        # Forward Pass\n",
        "        linear_output = np.dot(X, weights) + bias\n",
        "        y_pred = sigmoid(linear_output)\n",
        "\n",
        "        # Calculate the error (MSE)\n",
        "        error = y_pred - y\n",
        "\n",
        "        # Backpropagation (Gradient Descent)\n",
        "        d_weights = np.dot(X.T, error * sigmoid_derivative(y_pred)) / X.shape[0]\n",
        "        d_bias = np.sum(error * sigmoid_derivative(y_pred)) / X.shape[0]\n",
        "\n",
        "         # Update weights and bias using gradient descent\n",
        "        weights -= learning_rate * d_weights\n",
        "        bias -= learning_rate * d_bias\n",
        "\n",
        "    return weights, bias\n",
        "\n",
        "# Mean Squared Error (MSE) Calculation\n",
        "def mean_squared_error(y_true, y_pred):\n",
        "    return np.mean((y_true - y_pred) ** 2)\n",
        "\n",
        "# Test the model on new data\n",
        "def predict(X, weights, bias):\n",
        "    linear_output = np.dot(X, weights) + bias\n",
        "    return sigmoid(linear_output)\n",
        "\n",
        "# Training Data\n",
        "X_train = np.array([\n",
        "    [0.1, 0.2, 0.3],\n",
        "    [0.2, 0.3, 0.4],\n",
        "    [0.3, 0.4, 0.5],\n",
        "    [0.5, 0.6, 0.7],\n",
        "    [0.1, 0.3, 0.5],\n",
        "    [0.2, 0.4, 0.6],\n",
        "    [0.3, 0.5, 0.7],\n",
        "    [0.4, 0.6, 0.8],\n",
        "    [0.5, 0.7, 0.1]\n",
        "])\n",
        "\n",
        "y_train = np.array([0.5349, 0.5498, 0.5646, 0.5939, 0.5548, 0.5695, 0.5842, 0.5987, 0.5548])\n",
        "\n",
        "# Test Data\n",
        "X_test = np.array([\n",
        "    [0.6, 0.7, 0.8],\n",
        "    [0.7, 0.8, 0.9]\n",
        "])\n",
        "\n",
        "y_test = np.array([0.6083, 0.6225])\n",
        "\n",
        "# Train the model\n",
        "weights, bias = train_ann(X_train, y_train, learning_rate=0.1, epochs=10000)\n",
        "\n",
        "# Predict on Training Data\n",
        "y_train_pred = predict(X_train, weights, bias)\n",
        "train_mse = mean_squared_error(y_train, y_train_pred)\n",
        "\n",
        "# Predict on Test Data\n",
        "y_test_pred = predict(X_test, weights, bias)\n",
        "test_mse = mean_squared_error(y_test, y_test_pred)\n",
        "\n",
        "# Output the MSE results\n",
        "print(f\"Training MSE: {train_mse}\")\n",
        "print(f\"Testing MSE: {test_mse}\")\n",
        "\n",
        "# User Input for Prediction\n",
        "def user_prediction():\n",
        "    x1 = float(input(\"Enter x1: \"))\n",
        "    x2 = float(input(\"Enter x2: \"))\n",
        "    x3 = float(input(\"Enter x3: \"))\n",
        "\n",
        "    user_input = np.array([[x1, x2, x3]])\n",
        "    predicted_output = predict(user_input, weights, bias)\n",
        "    print(f\"Predicted output: {predicted_output[0]}\")\n",
        "\n",
        "# Run the user prediction function\n",
        "user_prediction()"
      ]
    }
  ]
}